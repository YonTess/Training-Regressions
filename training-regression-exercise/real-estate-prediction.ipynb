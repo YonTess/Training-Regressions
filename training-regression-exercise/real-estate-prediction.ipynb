{
 "cells": [
  {
   "cell_type": "code",
   "execution_count": null,
   "source": [],
   "outputs": [],
   "metadata": {}
  }
 ],
 "metadata": {
  "orig_nbformat": 4,
  "language_info": {
   "name": "python",
   "version": "3.7.10"
  },
  "kernelspec": {
   "name": "python3",
   "display_name": "Python 3.7.10 64-bit ('myenv': conda)"
  },
  "interpreter": {
   "hash": "c01cb7f2760436ed379cebab591e8f902646607a0990703e5c5d89e777a6fb2b"
  }
 },
 "nbformat": 4,
 "nbformat_minor": 2
}